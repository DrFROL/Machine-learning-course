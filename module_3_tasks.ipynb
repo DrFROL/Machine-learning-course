{
 "cells": [
  {
   "cell_type": "code",
   "execution_count": null,
   "id": "976a1da9",
   "metadata": {},
   "outputs": [],
   "source": [
    "# Перед началом работы с библиотеками pandas и seaborn необходимо установить их в Python.\n",
    "# Сделать это можно, исполнив данную ячейку\n",
    "!pip3 install pandas\n",
    "!pip3 install seaborn"
   ]
  },
  {
   "cell_type": "code",
   "execution_count": 14,
   "id": "f94bbda7",
   "metadata": {},
   "outputs": [],
   "source": [
    "import math\n",
    "\n",
    "import pandas as pd\n",
    "import seaborn as sns"
   ]
  },
  {
   "cell_type": "code",
   "execution_count": 15,
   "id": "60ea2afe",
   "metadata": {},
   "outputs": [],
   "source": [
    "# Настройка, которая позволяет сделать графики, которые рисует seaborn, более крупными\n",
    "sns.set(rc={'figure.figsize': (11.7, 8.27)})"
   ]
  },
  {
   "cell_type": "code",
   "execution_count": 3,
   "id": "020da7aa",
   "metadata": {},
   "outputs": [],
   "source": [
    "def round_to_2(x):\n",
    "    \"\"\"\n",
    "    Принимает число и возвращает результат его округления\n",
    "    до 2 знаков после запятой.\n",
    "    \n",
    "    Аргументы:\n",
    "        x: Число.\n",
    "        \n",
    "    Возвращаемое значение:\n",
    "        Результат округления числа до 2 знаков после запятой.\n",
    "    \"\"\"\n",
    "    \n",
    "    return round(x, 2)"
   ]
  },
  {
   "cell_type": "markdown",
   "id": "765b1a5f",
   "metadata": {},
   "source": [
    "## Среднее значение в колонке csv-файла"
   ]
  },
  {
   "cell_type": "code",
   "execution_count": 4,
   "id": "cff02b4a",
   "metadata": {},
   "outputs": [],
   "source": [
    "def split_line(line, sep):\n",
    "    \"\"\"\n",
    "    Возвращает список значений, которые содержатся в строке\n",
    "    и разделены конкретным разделителем.\n",
    "    Если какое-то из значений обособлено кавычками (\"<значение>\"), то разделительный\n",
    "    символ внутри него не считается разделителем.\n",
    "    \n",
    "    Например, если передать в функцию строку 'aa,bb,\"cc, oo\",dd' и разделитель ',',\n",
    "    то в результате работы функции получится список ['aa', 'bb', 'cc, oo', 'dd'].\n",
    "    \n",
    "    Аргументы:\n",
    "        line: Строка, которую нужно разбить на подстроки.\n",
    "        sep: Разделитель, который используется в строке для отделения различных значений.\n",
    "        \n",
    "    Возвращаемое значение:\n",
    "        Список подстрок строки, получаемых с помощью разделения её\n",
    "        на подстроки по заданному разделителю.\n",
    "    \"\"\"\n",
    "    \n",
    "    res = []\n",
    "    \n",
    "    prev_ind = -1\n",
    "    in_quotes = False\n",
    "    \n",
    "    for i in range(len(line)):\n",
    "        ch = line[i]\n",
    "        \n",
    "        if ch == '\"':\n",
    "            in_quotes = not in_quotes\n",
    "            \n",
    "        if not in_quotes and ch == sep:\n",
    "            res.append(line[prev_ind + 1:i].strip('\"'))\n",
    "            prev_ind = i\n",
    "            \n",
    "    if prev_ind < len(line) - 1:\n",
    "        res.append(line[prev_ind + 1:len(line)].strip('\"'))\n",
    "    elif prev_ind == len(line) - 1:\n",
    "        res.append('')\n",
    "    \n",
    "    return res"
   ]
  },
  {
   "cell_type": "code",
   "execution_count": 11,
   "id": "c94777b8",
   "metadata": {},
   "outputs": [],
   "source": [
    "def read_csv_and_calc_mean_solution(lines, sep, column_name):\n",
    "    a = []\n",
    "    for i in lines:\n",
    "        #print(split_line(i, sep))\n",
    "        a.append(split_line(i, sep))\n",
    "\n",
    "    ind = a[0].index(column_name)\n",
    "\n",
    "    summ = 0\n",
    "    for i in range(1, len(a)):\n",
    "        summ += int(a[i][ind])\n",
    "    print(round_to_2(summ / (len(a) - 1)))\n",
    "\n",
    "        "
   ]
  },
  {
   "cell_type": "code",
   "execution_count": 12,
   "id": "423d5b67",
   "metadata": {},
   "outputs": [],
   "source": [
    "def read_csv_and_calc_mean_tests():\n",
    "    example_1_lines = [\n",
    "        'Жанр,\"Продолжительность, часы\",\"Продолжительность, минуты\",Страна производства,Год производства',\n",
    "        'Боевик,0,36,Италия,1996',\n",
    "        'Комедия,1,23,Россия,1999',\n",
    "        'Триллер,2,21,США,2006',\n",
    "    ]\n",
    "    example_1_sep = ','\n",
    "    example_1_column = 'Год производства'\n",
    "    example_1_res = 2000.33\n",
    "    \n",
    "    assert read_csv_and_calc_mean_solution(example_1_lines, example_1_sep, example_1_column) == example_1_res\n",
    "    \n",
    "    example_2_lines = [\n",
    "        'Жанр,\"Продолжительность, часы\",\"Продолжительность, минуты\",Страна производства,Год производства',\n",
    "        'Боевик,0,36,Италия,1996',\n",
    "        'Комедия,1,23,Россия,1999',\n",
    "        'Триллер,2,21,США,2006',\n",
    "        'Комедия,1,48,США-Россия,2012',\n",
    "        'Драма,2,3,Франция,2016',\n",
    "        'Документальный,2,47,Германия,2001'\n",
    "    ]\n",
    "    example_2_sep = ','\n",
    "    example_2_column = 'Продолжительность, минуты'\n",
    "    example_2_res = 29.67\n",
    "    \n",
    "    assert read_csv_and_calc_mean_solution(example_2_lines, example_2_sep, example_2_column) == example_2_res\n",
    "    \n",
    "    print('Все тесты прошли успешно!')"
   ]
  },
  {
   "cell_type": "code",
   "execution_count": 13,
   "id": "c90d6c12",
   "metadata": {},
   "outputs": [
    {
     "name": "stdout",
     "output_type": "stream",
     "text": [
      "2000.33\n"
     ]
    },
    {
     "ename": "AssertionError",
     "evalue": "",
     "output_type": "error",
     "traceback": [
      "\u001b[1;31m---------------------------------------------------------------------------\u001b[0m",
      "\u001b[1;31mAssertionError\u001b[0m                            Traceback (most recent call last)",
      "Cell \u001b[1;32mIn [13], line 1\u001b[0m\n\u001b[1;32m----> 1\u001b[0m \u001b[43mread_csv_and_calc_mean_tests\u001b[49m\u001b[43m(\u001b[49m\u001b[43m)\u001b[49m\n",
      "Cell \u001b[1;32mIn [12], line 12\u001b[0m, in \u001b[0;36mread_csv_and_calc_mean_tests\u001b[1;34m()\u001b[0m\n\u001b[0;32m      9\u001b[0m example_1_column \u001b[38;5;241m=\u001b[39m \u001b[38;5;124m'\u001b[39m\u001b[38;5;124mГод производства\u001b[39m\u001b[38;5;124m'\u001b[39m\n\u001b[0;32m     10\u001b[0m example_1_res \u001b[38;5;241m=\u001b[39m \u001b[38;5;241m2000.33\u001b[39m\n\u001b[1;32m---> 12\u001b[0m \u001b[38;5;28;01massert\u001b[39;00m read_csv_and_calc_mean_solution(example_1_lines, example_1_sep, example_1_column) \u001b[38;5;241m==\u001b[39m example_1_res\n\u001b[0;32m     14\u001b[0m example_2_lines \u001b[38;5;241m=\u001b[39m [\n\u001b[0;32m     15\u001b[0m     \u001b[38;5;124m'\u001b[39m\u001b[38;5;124mЖанр,\u001b[39m\u001b[38;5;124m\"\u001b[39m\u001b[38;5;124mПродолжительность, часы\u001b[39m\u001b[38;5;124m\"\u001b[39m\u001b[38;5;124m,\u001b[39m\u001b[38;5;124m\"\u001b[39m\u001b[38;5;124mПродолжительность, минуты\u001b[39m\u001b[38;5;124m\"\u001b[39m\u001b[38;5;124m,Страна производства,Год производства\u001b[39m\u001b[38;5;124m'\u001b[39m,\n\u001b[0;32m     16\u001b[0m     \u001b[38;5;124m'\u001b[39m\u001b[38;5;124mБоевик,0,36,Италия,1996\u001b[39m\u001b[38;5;124m'\u001b[39m,\n\u001b[1;32m   (...)\u001b[0m\n\u001b[0;32m     21\u001b[0m     \u001b[38;5;124m'\u001b[39m\u001b[38;5;124mДокументальный,2,47,Германия,2001\u001b[39m\u001b[38;5;124m'\u001b[39m\n\u001b[0;32m     22\u001b[0m ]\n\u001b[0;32m     23\u001b[0m example_2_sep \u001b[38;5;241m=\u001b[39m \u001b[38;5;124m'\u001b[39m\u001b[38;5;124m,\u001b[39m\u001b[38;5;124m'\u001b[39m\n",
      "\u001b[1;31mAssertionError\u001b[0m: "
     ]
    }
   ],
   "source": [
    "read_csv_and_calc_mean_tests()"
   ]
  },
  {
   "cell_type": "markdown",
   "id": "9521936e",
   "metadata": {},
   "source": [
    "## Фильтрация таблиц"
   ]
  },
  {
   "cell_type": "code",
   "execution_count": 24,
   "id": "933e7466",
   "metadata": {},
   "outputs": [
    {
     "name": "stdout",
     "output_type": "stream",
     "text": [
      "3299\n"
     ]
    }
   ],
   "source": [
    "# В переменную movies загружена таблица из файла movies_data.csv\n",
    "movies = pd.read_csv('movies_data.csv', sep=',')\n",
    "\n",
    "# Удаление фильмов, у которых не указан год производства\n",
    "movies = movies[~movies['Год производства'].isna()]\n",
    "\n",
    "movies = movies[((movies['Год производства'] < 2000) & (movies['Жанр'] == 'Триллер')) | (movies['Страна производства'] == 'Россия')]\n",
    "print(len(movies))"
   ]
  },
  {
   "cell_type": "markdown",
   "id": "880e3eaf",
   "metadata": {},
   "source": [
    "## Комбинирование колонок и расчёт статистик"
   ]
  },
  {
   "cell_type": "code",
   "execution_count": 28,
   "id": "e7819a5d",
   "metadata": {},
   "outputs": [
    {
     "name": "stdout",
     "output_type": "stream",
     "text": [
      "150431902.0\n"
     ]
    }
   ],
   "source": [
    "# В переменную movies_budget загружена таблица из файла movies_budget.csv\n",
    "movies_budget = pd.read_csv('movies_budget.csv', sep=';')\n",
    "\n",
    "movies_budget['Доход'] = movies_budget['Стоимость билета'] * movies_budget['Число зрителей']\n",
    "\n",
    "movies_budget['Прибль'] = movies_budget['Доход'] / 2 - movies_budget['Бюджет'] - movies_budget['Бюджет'] / 2\n",
    "\n",
    "print(round_to_2(movies_budget['Прибль'].max()))"
   ]
  },
  {
   "cell_type": "markdown",
   "id": "624d2aad",
   "metadata": {},
   "source": [
    "## Агрегированные статистики"
   ]
  },
  {
   "cell_type": "code",
   "execution_count": 50,
   "id": "aab97d2b",
   "metadata": {},
   "outputs": [
    {
     "name": "stdout",
     "output_type": "stream",
     "text": [
      "             Жанр  Россия\n",
      "4         Триллер     305\n",
      "2           Драма     290\n",
      "0          Боевик     205\n",
      "1  Документальный     100\n",
      "3         Комедия     100\n"
     ]
    }
   ],
   "source": [
    "# В переменную movies_budget загружена таблица из файла movies_budget.csv\n",
    "movies_budget = pd.read_csv('movies_budget.csv', sep=';')\n",
    "\n",
    "\n",
    "\n",
    "                        \n",
    "\n",
    "transform_countries_info(movies_budget)\n",
    "\n",
    "\n"
   ]
  },
  {
   "cell_type": "code",
   "execution_count": 49,
   "id": "acc10e90",
   "metadata": {},
   "outputs": [],
   "source": [
    "def transform_countries_info(movies_data):\n",
    "    \"\"\"\n",
    "    Принимает таблицу с колонкой «Страна производства» и добавляет к таблице 5 новых колонок:\n",
    "    по одной на каждую отдельную страну. Значение в каждой из колонок соответствует тому,\n",
    "    принимала ли конкретная страна участие в производстве фильма.\n",
    "    \n",
    "    Аргументы:\n",
    "        movies_data: Исходная таблица с клонкой «Страна производства».\n",
    "        \n",
    "    Возвращаемое значение:\n",
    "        Нет. Функция модифицирует переданную таблицу, но ничего не возвращает.\n",
    "    \"\"\"\n",
    "    \n",
    "    countries = ['Россия', 'Германия', 'США', 'Италия', 'Франция']\n",
    "    new_columns = [[] for i in range(len(countries))]\n",
    "    \n",
    "    for _, row in movies_data.iterrows():\n",
    "        country_of_origin_united = row['Страна производства']\n",
    "        countries_of_origin = country_of_origin_united.split('-')\n",
    "        \n",
    "        for i in range(len(countries)):\n",
    "            country = countries[i]\n",
    "            \n",
    "            if country in countries_of_origin:\n",
    "                new_columns[i].append('Да')\n",
    "            else:\n",
    "                new_columns[i].append('Нет')\n",
    "                \n",
    "    for i in range(len(countries)):\n",
    "        movies_data[countries[i]] = new_columns[i]\n",
    "        \n",
    "    movies_data = movies_data.groupby('Жанр', as_index = False)\n",
    "    movies_data = movies_data.aggregate({'Россия': 'count'})\n",
    "    movies_data = movies_data.sort_values('Россия', ascending = False)\n",
    "    print(movies_data)"
   ]
  },
  {
   "cell_type": "markdown",
   "id": "877e74d4",
   "metadata": {},
   "source": [
    "## Визуальный анализ данных"
   ]
  },
  {
   "cell_type": "code",
   "execution_count": 63,
   "id": "c67793d0",
   "metadata": {},
   "outputs": [
    {
     "data": {
      "text/plain": [
       "<AxesSubplot: xlabel='C', ylabel='D'>"
      ]
     },
     "execution_count": 63,
     "metadata": {},
     "output_type": "execute_result"
    },
    {
     "data": {
      "image/png": "[encoded data removed]",
      "text/plain": [
       "<Figure size 1170x827 with 1 Axes>"
      ]
     },
     "metadata": {},
     "output_type": "display_data"
    }
   ],
   "source": [
    "# В переменную many_factors загружена таблица из файла many_factors_data.csv\n",
    "many_factors = pd.read_csv('many_factors_data.csv')\n",
    "\n",
    "sns.scatterplot(x = many_factors['C'], y = many_factors['D'])"
   ]
  },
  {
   "cell_type": "code",
   "execution_count": 76,
   "id": "512c5327",
   "metadata": {},
   "outputs": [
    {
     "data": {
      "text/plain": [
       "<AxesSubplot: xlabel='C', ylabel='Count'>"
      ]
     },
     "execution_count": 76,
     "metadata": {},
     "output_type": "execute_result"
    },
    {
     "data": {
      "image/png": "[encoded data removed]",
      "text/plain": [
       "<Figure size 1170x827 with 1 Axes>"
      ]
     },
     "metadata": {},
     "output_type": "display_data"
    }
   ],
   "source": [
    "# В переменную uniform_and_not загружена таблица из файла uniform_and_not_data\n",
    "uniform_and_not = pd.read_csv('uniform_and_not_data.csv')\n",
    "\n",
    "sns.histplot(uniform_and_not['C'], bins = 10)"
   ]
  },
  {
   "cell_type": "code",
   "execution_count": null,
   "id": "e6b4787b",
   "metadata": {},
   "outputs": [],
   "source": []
  }
 ],
 "metadata": {
  "kernelspec": {
   "display_name": "Python 3 (ipykernel)",
   "language": "python",
   "name": "python3"
  },
  "language_info": {
   "codemirror_mode": {
    "name": "ipython",
    "version": 3
   },
   "file_extension": ".py",
   "mimetype": "text/x-python",
   "name": "python",
   "nbconvert_exporter": "python",
   "pygments_lexer": "ipython3",
   "version": "3.10.10"
  }
 },
 "nbformat": 4,
 "nbformat_minor": 5
}
